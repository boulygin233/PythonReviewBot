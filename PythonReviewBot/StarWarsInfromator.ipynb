{
 "cells": [
  {
   "cell_type": "code",
   "execution_count": 44,
   "metadata": {},
   "outputs": [
    {
     "name": "stdout",
     "output_type": "stream",
     "text": [
      "Hi, I'm StarWarsBot, and I can find any information about Star Wars for you request.\n",
      "What are you want? I understand only 'exit' and 'find'\n",
      "find\n",
      "Input your request:\n",
      "Go\n"
     ]
    },
    {
     "data": {
      "text/html": [
       "<p><b>Go</b> was a type of drink. At some point after the succession of the <a href=\"/wiki/Cularin_system\" title=\"Cularin system\">Cularin system</a> from the <a href=\"/wiki/Galactic_Republic/Legends\" title=\"Galactic Republic/Legends\">Galactic Republic</a>, a number of <a href=\"/wiki/Starship/Legends\" title=\"Starship/Legends\">starships</a> queued above the <a href=\"/wiki/Planet/Legends\" title=\"Planet/Legends\">planet</a> <a href=\"/wiki/Cularin/Legends\" title=\"Cularin/Legends\">Cularin</a>, waiting for permission to depart from the world. <a href=\"/wiki/Borrath_Freelan\" title=\"Borrath Freelan\">Borrath Freelan</a>, the <a href=\"/wiki/Pilot/Legends\" title=\"Pilot/Legends\">pilot</a> of one of the ships, drank a cup of Go while he waited.\n",
       "</p>"
      ],
      "text/plain": [
       "<IPython.core.display.HTML object>"
      ]
     },
     "metadata": {},
     "output_type": "display_data"
    },
    {
     "name": "stdout",
     "output_type": "stream",
     "text": [
      "\n",
      "For more detail information you can go to this site:\n",
      "https://starwars.fandom.com/wiki/Go \n",
      "\n",
      "What are you want? I understand only 'exit' and 'find'\n",
      "find\n",
      "Input your request:\n",
      "Drink\n"
     ]
    },
    {
     "data": {
      "text/html": [
       "<p>The <b>Long Drink</b> was a <a href=\"/wiki/Cantina/Legends\" title=\"Cantina/Legends\">cantina</a> located in the city of <a href=\"/wiki/Morjanssik\" title=\"Morjanssik\">Morjanssik</a> on <a href=\"/wiki/Dac\" title=\"Dac\">Dac</a>. <a href=\"/wiki/Kruluk\" title=\"Kruluk\">Kruluk</a> worked there as a <a href=\"/wiki/Bartender/Legends\" title=\"Bartender/Legends\">bartender</a>.\n",
       "</p>"
      ],
      "text/plain": [
       "<IPython.core.display.HTML object>"
      ]
     },
     "metadata": {},
     "output_type": "display_data"
    },
    {
     "name": "stdout",
     "output_type": "stream",
     "text": [
      "\n",
      "For more detail information you can go to this site:\n",
      "https://starwars.wikia.com/wiki/Long_Drink \n",
      "\n",
      "What are you want? I understand only 'exit' and 'find'\n",
      "find\n",
      "Input your request:\n",
      "Dagobah\n"
     ]
    },
    {
     "data": {
      "text/html": [
       "<p><b>Dagobah</b> was a <a href=\"/wiki/Planet\" title=\"Planet\">planet</a> in the <a href=\"/wiki/Dagobah_system\" title=\"Dagobah system\">Dagobah system</a>, and one of the purest places in <a href=\"/wiki/The_galaxy\" title=\"The galaxy\">the galaxy</a> within <a href=\"/wiki/The_Force\" title=\"The Force\">the Force</a>. A remote world of <a href=\"/wiki/Swamp\" title=\"Swamp\">swamps</a> and <a href=\"/wiki/Forest\" title=\"Forest\">forests</a>, it served as a refuge for <a href=\"/wiki/Jedi\" title=\"Jedi\">Jedi</a> <a href=\"/wiki/Grand_Master\" title=\"Grand Master\">Grand Master</a> <a href=\"/wiki/Yoda\" title=\"Yoda\">Yoda</a> during <a href=\"/wiki/Sexes\" title=\"Sexes\">his</a> <a href=\"/wiki/Exile_(punishment)\" title=\"Exile (punishment)\">exile</a> after the <a href=\"/wiki/Order_66\" title=\"Order 66\">destruction</a> of the <a href=\"/wiki/Jedi_Order\" title=\"Jedi Order\">Jedi Order</a>. <a href=\"/wiki/Luke_Skywalker\" title=\"Luke Skywalker\">Luke Skywalker</a> received advanced <a href=\"/wiki/Jedi_training\" title=\"Jedi training\">training</a> in the ways of the Force under <a href=\"/wiki/Jedi_Master\" title=\"Jedi Master\">Jedi Master</a> Yoda on Dagobah, and it was later the place of Yoda's <a href=\"/wiki/Death\" title=\"Death\">death</a> and <a href=\"/wiki/Force_spirit\" title=\"Force spirit\">transformation into the Force</a>.\n",
       "</p>"
      ],
      "text/plain": [
       "<IPython.core.display.HTML object>"
      ]
     },
     "metadata": {},
     "output_type": "display_data"
    },
    {
     "name": "stdout",
     "output_type": "stream",
     "text": [
      "\n",
      "For more detail information you can go to this site:\n",
      "https://starwars.fandom.com/wiki/Dagobah \n",
      "\n",
      "What are you want? I understand only 'exit' and 'find'\n",
      "exit\n",
      "Bye\n"
     ]
    }
   ],
   "source": [
    "from requests import get\n",
    "from IPython.display import HTML, display\n",
    "from bs4 import BeautifulSoup\n",
    "\n",
    "\n",
    "class Finder:\n",
    "    def link_finder(self, soup_text):\n",
    "        if 'No results found.' in str(soup_text):\n",
    "            return None\n",
    "        else:\n",
    "            for h in soup_text.findAll('h1'):\n",
    "                # print(h)\n",
    "                link = h.find('a')\n",
    "                if link:\n",
    "                    founded_link = link['href']\n",
    "                    break\n",
    "            return founded_link\n",
    "\n",
    "    def information_finder(self, founded_link):\n",
    "        if founded_link:\n",
    "            new_req = get(founded_link)\n",
    "            soup = BeautifulSoup(new_req.text, \"lxml\")\n",
    "            y = founded_link.split('/')[4]\n",
    "            y = y.split('_')\n",
    "            for h in soup.findAll('p'):\n",
    "                check = 1\n",
    "                for t in y:\n",
    "                    if t not in str(h) and t.lower() not in str(h):\n",
    "                        check = 0\n",
    "                        break\n",
    "                if '<b>' in str(h) and check:\n",
    "                    #print('\\n', h.text)\n",
    "                    display(HTML(str(h)))\n",
    "                    break\n",
    "            print('\\nFor more detail information you can go to this site:')\n",
    "            print(founded_link, '\\n')\n",
    "        else:\n",
    "            print('\\nI\\'m sorry, but i can\\'t find anything for your request\\n')\n",
    "\n",
    "    def run(self):\n",
    "        print('Hi, I\\'m StarWarsBot, and I can find any information about Star Wars for you request.')\n",
    "        while True:\n",
    "            print('What are you want? I understand only \\'exit\\' and \\'find\\'')\n",
    "            command = input()\n",
    "            if command.lower() == 'exit':\n",
    "                print('Bye')\n",
    "                break\n",
    "            elif command.lower() == 'find':\n",
    "                print('Input your request:')\n",
    "                request = input()\n",
    "                req = get('https://starwars.fandom.com/wiki/Special:Search?query=' + request)\n",
    "                soup = BeautifulSoup(req.text, \"lxml\")\n",
    "                founded_link = self.link_finder(soup)\n",
    "                self.information_finder(founded_link)\n",
    "            else:\n",
    "                print('\\nSorry, I don\\'t understand you.')\n",
    "\n",
    "\n",
    "if __name__ == '__main__':\n",
    "    bot = Finder()\n",
    "    bot.run()\n"
   ]
  },
  {
   "cell_type": "code",
   "execution_count": null,
   "metadata": {},
   "outputs": [],
   "source": []
  }
 ],
 "metadata": {
  "kernelspec": {
   "display_name": "Python 3",
   "language": "python",
   "name": "python3"
  },
  "language_info": {
   "codemirror_mode": {
    "name": "ipython",
    "version": 3
   },
   "file_extension": ".py",
   "mimetype": "text/x-python",
   "name": "python",
   "nbconvert_exporter": "python",
   "pygments_lexer": "ipython3",
   "version": "3.6.7"
  }
 },
 "nbformat": 4,
 "nbformat_minor": 2
}
